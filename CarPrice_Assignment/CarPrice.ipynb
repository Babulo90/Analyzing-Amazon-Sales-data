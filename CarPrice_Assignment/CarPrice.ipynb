{
 "cells": [
  {
   "cell_type": "code",
   "execution_count": 12,
   "id": "92df1493-5052-4215-afef-79ee7371f931",
   "metadata": {},
   "outputs": [],
   "source": [
    "import pandas as pd\n",
    "import numpy as np\n",
    "import matplotlib.pyplot as plt\n",
    "import seaborn as sns\n",
    "from sklearn.model_selection import train_test_split\n",
    "from sklearn.linear_model import LinearRegression\n",
    "from sklearn.metrics import r2_score\n",
    "import statsmodels.api as sm\n",
    "\n",
    "data = pd.read_csv(r\"C:\\Users\\tamal\\Downloads\\CarPrice_Assignment.csv\")"
   ]
  },
  {
   "cell_type": "code",
   "execution_count": 13,
   "id": "eb73b264-ca5f-4cba-8a0f-5dfdc50e9c99",
   "metadata": {},
   "outputs": [
    {
     "name": "stdout",
     "output_type": "stream",
     "text": [
      "car_ID              0\n",
      "symboling           0\n",
      "fueltype            0\n",
      "aspiration          0\n",
      "doornumber          0\n",
      "carbody             0\n",
      "drivewheel          0\n",
      "enginelocation      0\n",
      "wheelbase           0\n",
      "carlength           0\n",
      "carwidth            0\n",
      "carheight           0\n",
      "curbweight          0\n",
      "enginetype          0\n",
      "cylindernumber      0\n",
      "enginesize          0\n",
      "fuelsystem          0\n",
      "boreratio           0\n",
      "stroke              0\n",
      "compressionratio    0\n",
      "horsepower          0\n",
      "peakrpm             0\n",
      "citympg             0\n",
      "highwaympg          0\n",
      "price               0\n",
      "CarCompany          0\n",
      "dtype: int64\n"
     ]
    }
   ],
   "source": [
    "# Extract the car company name\n",
    "data['CarCompany'] = data['CarName'].apply(lambda x: x.split(' ')[0])\n",
    "\n",
    "# Drop the original CarName column\n",
    "data = data.drop('CarName', axis=1)\n",
    "\n",
    "# Check for missing values\n",
    "print(data.isnull().sum())"
   ]
  },
  {
   "cell_type": "code",
   "execution_count": 14,
   "id": "fa65c8b4-8581-4452-b9d3-e101dc3ff642",
   "metadata": {},
   "outputs": [],
   "source": [
    "# Ensure all categorical variables are properly converted to category type\n",
    "categorical_columns = ['CarCompany', 'fueltype', 'aspiration', 'doornumber', 'carbody', \n",
    "                       'drivewheel', 'enginelocation', 'enginetype', 'cylindernumber', 'fuelsystem']\n",
    "for col in categorical_columns:\n",
    "    data[col] = data[col].astype('category')"
   ]
  },
  {
   "cell_type": "code",
   "execution_count": 17,
   "id": "174bc4c5-6946-4e0b-9bc1-99bc9efafb3a",
   "metadata": {},
   "outputs": [
    {
     "name": "stdout",
     "output_type": "stream",
     "text": [
      "                            OLS Regression Results                            \n",
      "==============================================================================\n",
      "Dep. Variable:                  price   R-squared:                       0.980\n",
      "Model:                            OLS   Adj. R-squared:                  0.963\n",
      "Method:                 Least Squares   F-statistic:                     58.53\n",
      "Date:                Sun, 28 Jul 2024   Prob (F-statistic):           4.55e-47\n",
      "Time:                        10:36:07   Log-Likelihood:                -1206.3\n",
      "No. Observations:                 143   AIC:                             2543.\n",
      "Df Residuals:                      78   BIC:                             2735.\n",
      "Df Model:                          64                                         \n",
      "Covariance Type:            nonrobust                                         \n",
      "==========================================================================================\n",
      "                             coef    std err          t      P>|t|      [0.025      0.975]\n",
      "------------------------------------------------------------------------------------------\n",
      "const                  -3.766e+04   1.28e+04     -2.942      0.004   -6.31e+04   -1.22e+04\n",
      "car_ID                   110.8222     61.219      1.810      0.074     -11.056     232.700\n",
      "symboling               -221.3027    294.465     -0.752      0.455    -807.537     364.932\n",
      "wheelbase                -11.6142    130.749     -0.089      0.929    -271.916     248.688\n",
      "carlength                -56.1940     61.986     -0.907      0.367    -179.599      67.211\n",
      "carwidth                 645.7606    264.979      2.437      0.017     118.227    1173.294\n",
      "carheight                -20.6977    170.722     -0.121      0.904    -360.578     319.183\n",
      "curbweight                 4.7221      1.982      2.382      0.020       0.776       8.668\n",
      "enginesize                75.5795     27.757      2.723      0.008      20.319     130.839\n",
      "boreratio              -2067.5001   1936.700     -1.068      0.289   -5923.174    1788.174\n",
      "stroke                 -1190.9585   1124.887     -1.059      0.293   -3430.436    1048.518\n",
      "compressionratio         284.1076    606.760      0.468      0.641    -923.858    1492.073\n",
      "horsepower                18.1277     25.219      0.719      0.474     -32.079      68.335\n",
      "peakrpm                    1.8771      0.704      2.665      0.009       0.475       3.279\n",
      "citympg                  121.2714    153.107      0.792      0.431    -183.541     426.084\n",
      "highwaympg               -45.3151    132.452     -0.342      0.733    -309.007     218.377\n",
      "fueltype_gas           -1.711e+04   6714.976     -2.549      0.013   -3.05e+04   -3746.114\n",
      "aspiration_turbo        2402.1607    843.854      2.847      0.006     722.177    4082.145\n",
      "doornumber_two          -114.7772    592.187     -0.194      0.847   -1293.731    1064.177\n",
      "carbody_hardtop          769.2648   1738.091      0.443      0.659   -2691.008    4229.538\n",
      "carbody_hatchback      -2054.5417   1288.992     -1.594      0.115   -4620.727     511.643\n",
      "carbody_sedan          -2109.7554   1394.087     -1.513      0.134   -4885.169     665.658\n",
      "carbody_wagon          -2769.5734   1508.342     -1.836      0.070   -5772.452     233.305\n",
      "drivewheel_fwd          -463.8583   1235.595     -0.375      0.708   -2923.740    1996.023\n",
      "drivewheel_rwd         -1259.3965   1411.752     -0.892      0.375   -4069.979    1551.186\n",
      "enginelocation_rear     6088.1888   2299.414      2.648      0.010    1510.408    1.07e+04\n",
      "enginetype_dohcv       -3619.3803   5580.560     -0.649      0.519   -1.47e+04    7490.662\n",
      "enginetype_l             569.3409   1498.585      0.380      0.705   -2414.113    3552.795\n",
      "enginetype_ohc          1161.0586   1354.477      0.857      0.394   -1535.499    3857.616\n",
      "enginetype_ohcf          723.3064   1693.083      0.427      0.670   -2647.362    4093.975\n",
      "enginetype_ohcv        -2016.6150   1506.258     -1.339      0.185   -5015.344     982.114\n",
      "enginetype_rotor        3589.2936   2685.628      1.336      0.185   -1757.381    8935.968\n",
      "cylindernumber_five    -3017.0733   3417.422     -0.883      0.380   -9820.639    3786.492\n",
      "cylindernumber_four    -1468.8923   4200.381     -0.350      0.728   -9831.209    6893.425\n",
      "cylindernumber_six     -1621.6034   3658.121     -0.443      0.659   -8904.363    5661.156\n",
      "cylindernumber_three    2.352e-11   1.28e-11      1.845      0.069   -1.86e-12    4.89e-11\n",
      "cylindernumber_twelve  -8176.6630   6369.933     -1.284      0.203   -2.09e+04    4504.899\n",
      "cylindernumber_two      3589.2936   2685.628      1.336      0.185   -1757.381    8935.968\n",
      "fuelsystem_2bbl         2248.7050   1374.959      1.635      0.106    -488.629    4986.039\n",
      "fuelsystem_4bbl          809.2719   2614.308      0.310      0.758   -4395.415    6013.959\n",
      "fuelsystem_idi         -2.055e+04   8376.682     -2.453      0.016   -3.72e+04   -3870.951\n",
      "fuelsystem_mfi          4.459e-11   1.66e-11      2.686      0.009    1.15e-11    7.76e-11\n",
      "fuelsystem_mpfi          904.5398   1503.403      0.602      0.549   -2088.506    3897.586\n",
      "fuelsystem_spdi          919.6303   1751.091      0.525      0.601   -2566.525    4405.785\n",
      "fuelsystem_spfi         1429.3209   2535.829      0.564      0.575   -3619.126    6477.768\n",
      "CarCompany_alfa-romero  1.566e+04   6640.743      2.358      0.021    2437.102    2.89e+04\n",
      "CarCompany_audi         1.497e+04   6537.337      2.289      0.025    1951.267     2.8e+04\n",
      "CarCompany_bmw          1.956e+04   5983.742      3.268      0.002    7642.336    3.15e+04\n",
      "CarCompany_buick         1.42e+04   4341.965      3.270      0.002    5555.522    2.28e+04\n",
      "CarCompany_chevrolet    7043.5594   4985.107      1.413      0.162   -2881.025     1.7e+04\n",
      "CarCompany_dodge        6868.8943   4648.446      1.478      0.144   -2385.451    1.61e+04\n",
      "CarCompany_honda        7306.2641   4068.594      1.796      0.076    -793.685    1.54e+04\n",
      "CarCompany_isuzu        6947.2187   3564.464      1.949      0.055    -149.083     1.4e+04\n",
      "CarCompany_jaguar       1.447e+04   5754.345      2.515      0.014    3014.350    2.59e+04\n",
      "CarCompany_maxda        4191.0464   3002.746      1.396      0.167   -1786.962    1.02e+04\n",
      "CarCompany_mazda        4727.6478   2737.702      1.727      0.088    -722.699    1.02e+04\n",
      "CarCompany_mercury      3109.8867   3383.725      0.919      0.361   -3626.593    9846.367\n",
      "CarCompany_mitsubishi    189.8091   2058.225      0.092      0.927   -3907.801    4287.420\n",
      "CarCompany_nissan        168.5311   1734.367      0.097      0.923   -3284.328    3621.390\n",
      "CarCompany_peugeot       569.3409   1498.585      0.380      0.705   -2414.113    3552.795\n",
      "CarCompany_plymouth    -4042.4506   2574.238     -1.570      0.120   -9167.366    1082.464\n",
      "CarCompany_porcshce     3083.4977   3762.742      0.819      0.415   -4407.545    1.06e+04\n",
      "CarCompany_porsche      4472.6755   3123.404      1.432      0.156   -1745.545    1.07e+04\n",
      "CarCompany_renault     -3478.1500   2860.374     -1.216      0.228   -9172.717    2216.417\n",
      "CarCompany_saab         -599.9351   3103.696     -0.193      0.847   -6778.919    5579.048\n",
      "CarCompany_subaru      -5364.8823   2661.472     -2.016      0.047   -1.07e+04     -66.299\n",
      "CarCompany_toyota      -7054.4822   4485.636     -1.573      0.120    -1.6e+04    1875.732\n",
      "CarCompany_toyouta     -7891.0355   4957.739     -1.592      0.116   -1.78e+04    1979.065\n",
      "CarCompany_vokswagen            0          0        nan        nan           0           0\n",
      "CarCompany_volkswagen  -8760.8034   5779.011     -1.516      0.134   -2.03e+04    2744.324\n",
      "CarCompany_volvo       -8029.6888   5958.773     -1.348      0.182   -1.99e+04    3833.317\n",
      "CarCompany_vw          -8057.2633   6244.050     -1.290      0.201   -2.05e+04    4373.686\n",
      "==============================================================================\n",
      "Omnibus:                        2.077   Durbin-Watson:                   1.979\n",
      "Prob(Omnibus):                  0.354   Jarque-Bera (JB):                1.706\n",
      "Skew:                           0.115   Prob(JB):                        0.426\n",
      "Kurtosis:                       3.483   Cond. No.                     1.00e+16\n",
      "==============================================================================\n",
      "\n",
      "Notes:\n",
      "[1] Standard Errors assume that the covariance matrix of the errors is correctly specified.\n",
      "[2] The smallest eigenvalue is 4.75e-23. This might indicate that there are\n",
      "strong multicollinearity problems or that the design matrix is singular.\n"
     ]
    }
   ],
   "source": [
    "# Convert categorical variables to dummy variables\n",
    "data = pd.get_dummies(data, drop_first=True)\n",
    "\n",
    "# Split the data into training and test sets\n",
    "X = data.drop('price', axis=1)\n",
    "y = data['price']\n",
    "X_train, X_test, y_train, y_test = train_test_split(X, y, test_size=0.3, random_state=42)\n",
    "\n",
    "# Add a constant to the training set\n",
    "X_train_const = sm.add_constant(X_train, has_constant='add')\n",
    "\n",
    "# Build the model\n",
    "model = sm.OLS(y_train.astype(float), X_train_const.astype(float)).fit()\n",
    "\n",
    "# Print the model summary\n",
    "print(model.summary())"
   ]
  },
  {
   "cell_type": "code",
   "execution_count": 18,
   "id": "1ff84502-ea6b-48d5-b612-026ec0a7279e",
   "metadata": {},
   "outputs": [
    {
     "name": "stdout",
     "output_type": "stream",
     "text": [
      "Training R-squared: 0.9796010332907487\n"
     ]
    },
    {
     "data": {
      "image/png": "[encoded data removed]",
      "text/plain": [
       "<Figure size 1000x600 with 1 Axes>"
      ]
     },
     "metadata": {},
     "output_type": "display_data"
    },
    {
     "name": "stdout",
     "output_type": "stream",
     "text": [
      "Test R-squared: 0.8816798485298681\n"
     ]
    }
   ],
   "source": [
    "# Evaluate the model on the training set\n",
    "y_train_pred = model.predict(X_train_const)\n",
    "train_r2 = r2_score(y_train, y_train_pred)\n",
    "print('Training R-squared:', train_r2)\n",
    "\n",
    "# Perform residual analysis\n",
    "residuals = y_train - y_train_pred\n",
    "plt.figure(figsize=(10, 6))\n",
    "sns.histplot(residuals, kde=True)\n",
    "plt.title('Residuals Distribution')\n",
    "plt.show()\n",
    "\n",
    "# Make predictions on the test set\n",
    "X_test_const = sm.add_constant(X_test, has_constant='add')\n",
    "y_test_pred = model.predict(X_test_const)\n",
    "\n",
    "# Calculate the R-squared score on the test set\n",
    "test_r2 = r2_score(y_test, y_test_pred)\n",
    "print('Test R-squared:', test_r2)"
   ]
  },
  {
   "cell_type": "code",
   "execution_count": 23,
   "id": "0672c7e0-6544-449d-99a4-2415e3c87914",
   "metadata": {},
   "outputs": [],
   "source": [
    "data.to_csv(r'C:\\Users\\tamal\\documents\\Cleaned_CarPrice_Assignment.csv', index=False)"
   ]
  },
  {
   "cell_type": "code",
   "execution_count": null,
   "id": "6b12f479-e872-49ad-a6ea-ae8e21486194",
   "metadata": {},
   "outputs": [],
   "source": []
  }
 ],
 "metadata": {
  "kernelspec": {
   "display_name": "Python 3 (ipykernel)",
   "language": "python",
   "name": "python3"
  },
  "language_info": {
   "codemirror_mode": {
    "name": "ipython",
    "version": 3
   },
   "file_extension": ".py",
   "mimetype": "text/x-python",
   "name": "python",
   "nbconvert_exporter": "python",
   "pygments_lexer": "ipython3",
   "version": "3.12.4"
  }
 },
 "nbformat": 4,
 "nbformat_minor": 5
}
